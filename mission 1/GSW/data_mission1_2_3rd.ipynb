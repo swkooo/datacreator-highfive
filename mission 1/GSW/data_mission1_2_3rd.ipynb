{
  "nbformat": 4,
  "nbformat_minor": 0,
  "metadata": {
    "colab": {
      "provenance": []
    },
    "kernelspec": {
      "name": "python3",
      "display_name": "Python 3"
    },
    "language_info": {
      "name": "python"
    }
  },
  "cells": [
    {
      "cell_type": "markdown",
      "source": [
        "# 로컬런타임 연결"
      ],
      "metadata": {
        "id": "-rZf0qkRxe5n"
      }
    },
    {
      "cell_type": "code",
      "source": [
        "\"\"\"로컬 런타임 연결(터미널)\n",
        "activate tensorflow\n",
        "\n",
        "jupyter notebook \\\n",
        "    --NotebookApp.allow_origin='https://colab.research.google.com' \\\n",
        "    --port=8888 \\\n",
        "    --NotebookApp.port_retries=0\n",
        "\"\"\""
      ],
      "metadata": {
        "id": "2WUh9FiYKBGZ",
        "colab": {
          "base_uri": "https://localhost:8080/",
          "height": 35
        },
        "outputId": "40ff808d-22de-4abd-e131-2c697b1eaa39"
      },
      "execution_count": null,
      "outputs": [
        {
          "output_type": "execute_result",
          "data": {
            "text/plain": [
              "\"로컬 런타임 연결(터미널)\\nactivate tensorflow\\n\\njupyter notebook     --NotebookApp.allow_origin='https://colab.research.google.com'     --port=8888     --NotebookApp.port_retries=0\\n\""
            ],
            "application/vnd.google.colaboratory.intrinsic+json": {
              "type": "string"
            }
          },
          "metadata": {},
          "execution_count": 2
        }
      ]
    },
    {
      "cell_type": "code",
      "source": [
        "import pandas as pd\n",
        "import numpy as np\n",
        "from tqdm import tqdm\n",
        "import csv\n",
        "import matplotlib.pyplot as plt\n",
        "import torch\n",
        "\n",
        "print(torch.__version__) #토치 버전 '2.2.2+cu118'\n",
        "print(torch.version.cuda) #CUDA 버전\n",
        "print(torch.cuda.get_device_name())\n",
        "print(torch.cuda.device_count())\n",
        "print(torch.cuda.is_available())"
      ],
      "metadata": {
        "id": "FO-bFwGkg1bd",
        "colab": {
          "base_uri": "https://localhost:8080/"
        },
        "outputId": "a4706d2a-22cc-4743-de15-974249d594c1"
      },
      "execution_count": 1,
      "outputs": [
        {
          "output_type": "stream",
          "name": "stdout",
          "text": [
            "2.3.0+cu118\n",
            "11.8\n",
            "NVIDIA GeForce MX450\n",
            "1\n",
            "True\n"
          ]
        }
      ]
    },
    {
      "cell_type": "code",
      "source": [
        "import tensorflow as tf\n",
        "\n",
        "# Print the installed version of TensorFlow\n",
        "print(\"TensorFlow version:\", tf.__version__)\n",
        "\n",
        "# List all available devices detected by TensorFlow\n",
        "print(\"Available devices:\")\n",
        "devices = tf.config.list_physical_devices()\n",
        "for device in devices:\n",
        "    print(device)\n",
        "\n",
        "# Check if TensorFlow is currently using a GPU\n",
        "gpu_available = tf.config.list_physical_devices('GPU')\n",
        "if gpu_available:\n",
        "    print(\"GPU is available for TensorFlow.\")\n",
        "else:\n",
        "    print(\"GPU is not available, TensorFlow is using CPU.\")"
      ],
      "metadata": {
        "colab": {
          "base_uri": "https://localhost:8080/"
        },
        "id": "Pl8gc7Hyp1Ek",
        "outputId": "ac12e655-66d7-4f70-bd04-188a828d8909"
      },
      "execution_count": 2,
      "outputs": [
        {
          "output_type": "stream",
          "name": "stdout",
          "text": [
            "TensorFlow version: 2.10.0\n",
            "Available devices:\n",
            "PhysicalDevice(name='/physical_device:CPU:0', device_type='CPU')\n",
            "PhysicalDevice(name='/physical_device:GPU:0', device_type='GPU')\n",
            "GPU is available for TensorFlow.\n"
          ]
        }
      ]
    },
    {
      "cell_type": "markdown",
      "source": [
        "# 31 classes 분류"
      ],
      "metadata": {
        "id": "bJITfIaXYytr"
      }
    },
    {
      "cell_type": "markdown",
      "source": [
        "데이터셋 정규화 및 증강"
      ],
      "metadata": {
        "id": "UJmxmuoq43-j"
      }
    },
    {
      "cell_type": "code",
      "source": [
        "import os\n",
        "import numpy as np\n",
        "from sklearn.model_selection import StratifiedShuffleSplit\n",
        "from torchvision import datasets, transforms\n",
        "from torch.utils.data import DataLoader, Subset, ConcatDataset\n",
        "import torch\n",
        "from tqdm import tqdm  # tqdm 불러오기\n",
        "\n",
        "# Train 데이터셋 경로 (processed_images와 sorted_training_images)\n",
        "train_dir_1 = 'C:/Users/SW/Desktop/데크캠/2024 데이터 크리에이터 캠프 대학부/dataset/processed_images'\n",
        "train_dir_2 = 'C:/Users/SW/Desktop/데크캠/2024 데이터 크리에이터 캠프 대학부/dataset/sorted_training_images'\n",
        "\n",
        "# Val 데이터 경로 설정\n",
        "val_dir = 'C:/Users/SW/Desktop/데크캠/2024 데이터 크리에이터 캠프 대학부/dataset/sorted_validation_images'\n",
        "\n",
        "# 이미지 로드 및 기본 전처리 (이미지 크기만 일단 조정)\n",
        "transform = transforms.Compose([\n",
        "    transforms.Resize((224, 224)),\n",
        "    transforms.ToTensor()\n",
        "])\n",
        "\n",
        "# train 원본 데이터만 확인\n",
        "train_dataset_2 = datasets.ImageFolder(root=train_dir_2, transform=transform)\n",
        "\n",
        "# DataLoader 설정\n",
        "batch_size = 32\n",
        "origin_train_loader = DataLoader(train_dataset_2, batch_size=batch_size, shuffle=True, num_workers=4)\n",
        "\n",
        "# 평균과 표준편차 계산 함수에 tqdm 추가\n",
        "def calculate_mean_std(loader):\n",
        "    mean = torch.zeros(3)\n",
        "    std = torch.zeros(3)\n",
        "    total_images_count = 0\n",
        "\n",
        "    # tqdm을 사용하여 진행 상황을 보여줌\n",
        "    for images, _ in tqdm(loader, desc=\"Calculating mean and std\"):\n",
        "        batch_samples = images.size(0)  # 배치 내 이미지 개수\n",
        "        images = images.view(batch_samples, images.size(1), -1)  # [batch_size, channels, height*width]\n",
        "        mean += images.mean(2).sum(0)\n",
        "        std += images.std(2).sum(0)\n",
        "        total_images_count += batch_samples\n",
        "\n",
        "    mean /= total_images_count\n",
        "    std /= total_images_count\n",
        "\n",
        "    return mean, std\n",
        "\n",
        "# 평균과 표준편차 계산\n",
        "print(\"Calculating for train dataset...\")\n",
        "mean, std = calculate_mean_std(origin_train_loader)\n",
        "print(f\"Train Mean: {mean}\")\n",
        "print(f\"Train Standard Deviation: {std}\")"
      ],
      "metadata": {
        "colab": {
          "base_uri": "https://localhost:8080/"
        },
        "id": "zq35lQv1c3VW",
        "outputId": "8527c91c-6399-4041-cd7a-402ae41ba299"
      },
      "execution_count": 37,
      "outputs": [
        {
          "output_type": "stream",
          "name": "stdout",
          "text": [
            "Calculating for train dataset...\n"
          ]
        },
        {
          "output_type": "stream",
          "name": "stderr",
          "text": [
            "Calculating mean and std: 100%|██████████████████████████████████████████████████████| 128/128 [15:43<00:00,  7.37s/it]"
          ]
        },
        {
          "output_type": "stream",
          "name": "stdout",
          "text": [
            "Train Mean: tensor([0.5498, 0.5226, 0.5052])\n",
            "Train Standard Deviation: tensor([0.2600, 0.2582, 0.2620])\n"
          ]
        },
        {
          "output_type": "stream",
          "name": "stderr",
          "text": [
            "\n"
          ]
        }
      ]
    },
    {
      "cell_type": "markdown",
      "source": [
        "각 클래스별 데이터 수에 대한 가중치 계산"
      ],
      "metadata": {
        "id": "QRbLGhM0j8d1"
      }
    },
    {
      "cell_type": "code",
      "source": [
        "from collections import Counter\n",
        "import torch\n",
        "\n",
        "# 클래스별 샘플 수 계산\n",
        "def get_class_weights(origin_train_loader):\n",
        "    targets = []\n",
        "    for _, labels in origin_train_loader:\n",
        "        targets.extend(labels.numpy())  # 모든 레이블 수집\n",
        "\n",
        "    class_counts = Counter(targets)  # 각 클래스별 샘플 수\n",
        "    total_samples = sum(class_counts.values())  # 전체 샘플 수\n",
        "\n",
        "    # 샘플 수에 반비례하는 가중치 계산\n",
        "    class_weights = {cls: total_samples / count for cls, count in class_counts.items()}\n",
        "\n",
        "    # 가중치 배열을 torch.Tensor로 변환\n",
        "    weights = torch.tensor([class_weights[i] for i in range(len(class_counts))], dtype=torch.float)\n",
        "\n",
        "    return weights\n",
        "\n",
        "# 클래스 가중치 계산\n",
        "class_weights = get_class_weights(origin_train_loader)"
      ],
      "metadata": {
        "id": "0KcYX-CgjRsK"
      },
      "execution_count": 38,
      "outputs": []
    },
    {
      "cell_type": "markdown",
      "source": [
        "데이터셋 전처리 및 로드"
      ],
      "metadata": {
        "id": "-TbotnDukGWT"
      }
    },
    {
      "cell_type": "code",
      "source": [
        "import os\n",
        "import numpy as np\n",
        "from sklearn.model_selection import StratifiedShuffleSplit\n",
        "from torchvision import datasets, transforms\n",
        "from torch.utils.data import DataLoader, Subset, ConcatDataset\n",
        "\n",
        "# 이미지 로드 및 기본 전처리 + 정규화\n",
        "transform = transforms.Compose([\n",
        "    transforms.Resize((224, 224)),\n",
        "    transforms.ToTensor(),\n",
        "    transforms.Normalize(mean=[0.5498, 0.5226, 0.5052], std=[0.2600, 0.2582, 0.2620])  # 계산한 평균, 표준편차를 활용한 정규화\n",
        "])\n",
        "\n",
        "# 증강을 추가한 transform\n",
        "augment_transform = transforms.Compose([\n",
        "    transforms.Resize((224, 224)),\n",
        "    transforms.RandomHorizontalFlip(p=1),  # 좌우 반전\n",
        "    transforms.ColorJitter(saturation=0.3, brightness=0.3),  # 채도와 밝기 변환\n",
        "    transforms.ToTensor(),\n",
        "    transforms.Normalize(mean=[0.5498, 0.5226, 0.5052], std=[0.2600, 0.2582, 0.2620])\n",
        "])\n",
        "\n",
        "# 각 경로의 데이터셋 불러오기\n",
        "train_dataset_1 = datasets.ImageFolder(root=train_dir_1, transform=transform)\n",
        "train_dataset_2 = datasets.ImageFolder(root=train_dir_2, transform=transform)\n",
        "# 증강된 이미지 데이터셋\n",
        "train_dataset_2_augmented = datasets.ImageFolder(root=train_dir_2, transform=augment_transform)\n",
        "\n",
        "# 세 개의 데이터셋을 합침\n",
        "train_dataset = ConcatDataset([train_dataset_1, train_dataset_2, train_dataset_2_augmented])\n",
        "\n",
        "# validation 데이터셋\n",
        "val_dataset = datasets.ImageFolder(root=val_dir, transform=transform)\n",
        "\n",
        "# DataLoader 설정\n",
        "batch_size = 32\n",
        "train_loader = DataLoader(train_dataset, batch_size=batch_size, shuffle=True, num_workers=4)\n",
        "val_loader = DataLoader(val_dataset, batch_size=batch_size, shuffle=False, num_workers=4)\n",
        "\n",
        "\n",
        "print(f\"Train size: {len(train_loader.dataset)}, Val size: {len(val_loader.dataset)}\")"
      ],
      "metadata": {
        "id": "9RQVvJN-Tc_C",
        "colab": {
          "base_uri": "https://localhost:8080/"
        },
        "outputId": "192542ec-800d-484f-b854-34f1339eaf28"
      },
      "execution_count": 39,
      "outputs": [
        {
          "output_type": "stream",
          "name": "stdout",
          "text": [
            "Train size: 12210, Val size: 951\n"
          ]
        }
      ]
    },
    {
      "cell_type": "markdown",
      "source": [
        "모델 하이퍼파라미터"
      ],
      "metadata": {
        "id": "KLdA1N4d5A4c"
      }
    },
    {
      "cell_type": "code",
      "source": [
        "import torch\n",
        "import torch.nn as nn\n",
        "import torch.optim as optim\n",
        "from torchvision import models\n",
        "from tqdm import tqdm\n",
        "from torch.optim.lr_scheduler import ReduceLROnPlateau\n",
        "\n",
        "# Hyperparameters\n",
        "num_epochs = 100\n",
        "learning_rate = 0.01\n",
        "\n",
        "# Device 설정\n",
        "device = torch.device(\"cuda\" if torch.cuda.is_available() else \"cpu\")\n",
        "print(f\"Using device: {device}\")\n",
        "\n",
        "# ResNet-18 모델 정의\n",
        "model = models.resnet18(weights=None)  # pretrained=False로 설정\n",
        "num_features = model.fc.in_features  # 마지막 FC 레이어의 입력 크기\n",
        "model.fc = nn.Linear(num_features, 31)  # 출력 클래스 수에 맞게 수정\n",
        "model = model.to(device)\n",
        "\n",
        "# Loss 및 Optimizer 설정\n",
        "criterion = torch.nn.CrossEntropyLoss(weight=class_weights.to(device))  # 가중치를 이용한 손실 함수 정의\n",
        "optimizer = optim.AdamW(model.parameters(), lr=learning_rate, weight_decay=0.01)  # 가중치 크기 제한\n",
        "\n",
        "# ReduceLROnPlateau 스케줄러 초기화\n",
        "scheduler = ReduceLROnPlateau(optimizer, mode='min', factor=0.5, patience=3, min_lr=1e-6)"
      ],
      "metadata": {
        "colab": {
          "base_uri": "https://localhost:8080/"
        },
        "id": "jWQVGOGDsTMx",
        "outputId": "cf1c62ab-9f9f-4ebe-b745-9c94cf868663"
      },
      "execution_count": 44,
      "outputs": [
        {
          "output_type": "stream",
          "name": "stdout",
          "text": [
            "Using device: cuda\n"
          ]
        }
      ]
    },
    {
      "cell_type": "markdown",
      "source": [
        "진행상황 저장"
      ],
      "metadata": {
        "id": "Wj530Yak5GQx"
      }
    },
    {
      "cell_type": "code",
      "source": [
        "# 체크포인트 저장 함수\n",
        "def save_checkpoint(state, filename=\"C:/Users/SW/Desktop/데크캠/mission1-2/checkpoint_3rd.pth\", weights_only=False):\n",
        "    torch.save(state, filename)\n",
        "\n",
        "\n",
        "# 체크포인트 로드 함수\n",
        "def load_checkpoint(filename=\"C:/Users/SW/Desktop/데크캠/mission1-2/checkpoint_3rd.pth\", weights_only=False):\n",
        "    checkpoint = torch.load(filename)\n",
        "    epoch = checkpoint['epoch']\n",
        "    model.load_state_dict(checkpoint['model_state_dict'])\n",
        "    optimizer.load_state_dict(checkpoint['optimizer_state_dict'])\n",
        "    scheduler.load_state_dict(checkpoint['scheduler_state_dict'])\n",
        "    best_loss = checkpoint['best_loss']\n",
        "    return epoch, best_loss"
      ],
      "metadata": {
        "id": "m7b5FGp_sgIV"
      },
      "execution_count": 29,
      "outputs": []
    },
    {
      "cell_type": "markdown",
      "source": [
        "resnet-18 학습모델"
      ],
      "metadata": {
        "id": "S9-tsKGl5KaI"
      }
    },
    {
      "cell_type": "code",
      "source": [
        "# 학습 및 검증 함수\n",
        "def train_and_validate(model, train_loader, val_loader, criterion, optimizer, scheduler, num_epochs, start_epoch=0, best_loss=float('inf')):\n",
        "    history = {'train_loss': [], 'train_accuracy': [], 'val_loss': [], 'val_accuracy': []}\n",
        "\n",
        "    for epoch in range(start_epoch, num_epochs):\n",
        "        model.train()\n",
        "        running_loss = 0.0\n",
        "        correct_predictions = 0\n",
        "        total_samples = 0\n",
        "\n",
        "        for images, labels in tqdm(train_loader, desc=f\"Training Epoch {epoch+1}/{num_epochs}\"):\n",
        "            images, labels = images.to(device), labels.to(device)\n",
        "\n",
        "            # Forward pass\n",
        "            outputs = model(images)\n",
        "            loss = criterion(outputs, labels)\n",
        "\n",
        "            # Backward pass 및 최적화\n",
        "            optimizer.zero_grad()\n",
        "            loss.backward()\n",
        "            optimizer.step()\n",
        "\n",
        "            running_loss += loss.item()\n",
        "\n",
        "            # Accuracy 계산\n",
        "            _, predicted = torch.max(outputs, 1)\n",
        "            total_samples += labels.size(0)\n",
        "            correct_predictions += (predicted == labels).sum().item()\n",
        "\n",
        "        avg_loss = running_loss / len(train_loader)\n",
        "        accuracy = correct_predictions / total_samples\n",
        "        history['train_loss'].append(avg_loss)\n",
        "        history['train_accuracy'].append(accuracy)\n",
        "\n",
        "        print(f\"Epoch [{epoch+1}/{num_epochs}], Train Loss: {avg_loss:.4f}, Train Accuracy: {accuracy:.4f}\")\n",
        "\n",
        "        # Validation phase\n",
        "        model.eval()\n",
        "        val_running_loss = 0.0\n",
        "        val_correct_predictions = 0\n",
        "        val_total_samples = 0\n",
        "\n",
        "        with torch.no_grad():\n",
        "            for images, labels in val_loader:\n",
        "                images, labels = images.to(device), labels.to(device)\n",
        "                outputs = model(images)\n",
        "                loss = criterion(outputs, labels)\n",
        "\n",
        "                val_running_loss += loss.item()\n",
        "\n",
        "                _, predicted = torch.max(outputs, 1)\n",
        "                val_total_samples += labels.size(0)\n",
        "                val_correct_predictions += (predicted == labels).sum().item()\n",
        "\n",
        "        avg_val_loss = val_running_loss / len(val_loader)\n",
        "        val_accuracy = val_correct_predictions / val_total_samples\n",
        "        history['val_loss'].append(avg_val_loss)\n",
        "        history['val_accuracy'].append(val_accuracy)\n",
        "\n",
        "        print(f\"Validation Loss: {avg_val_loss:.4f}, Validation Accuracy: {val_accuracy:.4f}\")\n",
        "\n",
        "        # ReduceLROnPlateau 스케줄러를 사용하여 학습률 조정\n",
        "        scheduler.step(avg_val_loss)\n",
        "        current_lr = scheduler.get_last_lr()[0]  # 현재 학습률 확인\n",
        "        print(f\"Current Learning Rate: {current_lr}\")\n",
        "\n",
        "        # 가장 낮은 loss를 가진 모델 저장\n",
        "        if avg_val_loss < best_loss:\n",
        "            best_loss = avg_val_loss\n",
        "            torch.save(model.state_dict(), 'best_model.pth')\n",
        "\n",
        "            # 체크포인트 저장\n",
        "            save_checkpoint({\n",
        "                'epoch': epoch + 1,  # 현재 에폭 저장\n",
        "                'model_state_dict': model.state_dict(),\n",
        "                'optimizer_state_dict': optimizer.state_dict(),\n",
        "                'scheduler_state_dict': scheduler.state_dict(),\n",
        "                'best_loss': best_loss\n",
        "            })\n",
        "\n",
        "    return history\n"
      ],
      "metadata": {
        "id": "x0pN9Xs8soTH"
      },
      "execution_count": 42,
      "outputs": []
    },
    {
      "cell_type": "code",
      "source": [
        "# 만약 기존 체크포인트가 있다면 로드\n",
        "try:\n",
        "    start_epoch, best_loss = load_checkpoint()\n",
        "    print(f\"Checkpoint loaded. Resuming from epoch {start_epoch} with lowest loss {best_loss:.4f}.\")\n",
        "except FileNotFoundError:\n",
        "    print(\"No checkpoint found, starting from scratch.\")\n",
        "    start_epoch, best_loss = 0, 10.0\n",
        "\n",
        "# 학습 재개\n",
        "history = train_and_validate(model, train_loader, val_loader, criterion, optimizer, scheduler, num_epochs, start_epoch, best_loss)"
      ],
      "metadata": {
        "colab": {
          "base_uri": "https://localhost:8080/",
          "height": 1000
        },
        "id": "qLe3Pjuet4oq",
        "outputId": "0e3f37bc-2794-4eea-8b35-3b02919f0c0e"
      },
      "execution_count": 45,
      "outputs": [
        {
          "output_type": "stream",
          "name": "stdout",
          "text": [
            "No checkpoint found, starting from scratch.\n"
          ]
        },
        {
          "output_type": "stream",
          "name": "stderr",
          "text": [
            "Training Epoch 1/100: 100%|██████████████████████████████████████████████████████████| 382/382 [21:34<00:00,  3.39s/it]\n"
          ]
        },
        {
          "output_type": "stream",
          "name": "stdout",
          "text": [
            "Epoch [1/100], Train Loss: 3.5487, Train Accuracy: 0.0369\n",
            "Validation Loss: 3.4628, Validation Accuracy: 0.0515\n",
            "Current Learning Rate: 0.01\n"
          ]
        },
        {
          "output_type": "stream",
          "name": "stderr",
          "text": [
            "Training Epoch 2/100: 100%|██████████████████████████████████████████████████████████| 382/382 [21:04<00:00,  3.31s/it]\n"
          ]
        },
        {
          "output_type": "stream",
          "name": "stdout",
          "text": [
            "Epoch [2/100], Train Loss: 3.4360, Train Accuracy: 0.0387\n",
            "Validation Loss: 3.4321, Validation Accuracy: 0.0389\n",
            "Current Learning Rate: 0.01\n"
          ]
        },
        {
          "output_type": "stream",
          "name": "stderr",
          "text": [
            "Training Epoch 3/100: 100%|██████████████████████████████████████████████████████████| 382/382 [21:00<00:00,  3.30s/it]\n"
          ]
        },
        {
          "output_type": "stream",
          "name": "stdout",
          "text": [
            "Epoch [3/100], Train Loss: 3.4326, Train Accuracy: 0.0391\n",
            "Validation Loss: 3.4031, Validation Accuracy: 0.0484\n",
            "Current Learning Rate: 0.01\n"
          ]
        },
        {
          "output_type": "stream",
          "name": "stderr",
          "text": [
            "Training Epoch 4/100: 100%|██████████████████████████████████████████████████████████| 382/382 [21:11<00:00,  3.33s/it]\n"
          ]
        },
        {
          "output_type": "stream",
          "name": "stdout",
          "text": [
            "Epoch [4/100], Train Loss: 3.4291, Train Accuracy: 0.0341\n",
            "Validation Loss: 3.4232, Validation Accuracy: 0.0400\n",
            "Current Learning Rate: 0.01\n"
          ]
        },
        {
          "output_type": "stream",
          "name": "stderr",
          "text": [
            "Training Epoch 5/100: 100%|██████████████████████████████████████████████████████████| 382/382 [21:15<00:00,  3.34s/it]\n"
          ]
        },
        {
          "output_type": "stream",
          "name": "stdout",
          "text": [
            "Epoch [5/100], Train Loss: 3.4234, Train Accuracy: 0.0387\n",
            "Validation Loss: 3.4394, Validation Accuracy: 0.0400\n",
            "Current Learning Rate: 0.01\n"
          ]
        },
        {
          "output_type": "stream",
          "name": "stderr",
          "text": [
            "Training Epoch 6/100: 100%|██████████████████████████████████████████████████████████| 382/382 [22:24<00:00,  3.52s/it]\n"
          ]
        },
        {
          "output_type": "stream",
          "name": "stdout",
          "text": [
            "Epoch [6/100], Train Loss: 3.4148, Train Accuracy: 0.0457\n",
            "Validation Loss: 3.3894, Validation Accuracy: 0.0505\n",
            "Current Learning Rate: 0.01\n"
          ]
        },
        {
          "output_type": "stream",
          "name": "stderr",
          "text": [
            "Training Epoch 7/100: 100%|██████████████████████████████████████████████████████████| 382/382 [21:48<00:00,  3.42s/it]\n"
          ]
        },
        {
          "output_type": "stream",
          "name": "stdout",
          "text": [
            "Epoch [7/100], Train Loss: 3.4011, Train Accuracy: 0.0412\n",
            "Validation Loss: 3.3684, Validation Accuracy: 0.0631\n",
            "Current Learning Rate: 0.01\n"
          ]
        },
        {
          "output_type": "stream",
          "name": "stderr",
          "text": [
            "Training Epoch 8/100: 100%|██████████████████████████████████████████████████████████| 382/382 [21:09<00:00,  3.32s/it]\n"
          ]
        },
        {
          "output_type": "stream",
          "name": "stdout",
          "text": [
            "Epoch [8/100], Train Loss: 3.3819, Train Accuracy: 0.0488\n",
            "Validation Loss: 3.3558, Validation Accuracy: 0.0515\n",
            "Current Learning Rate: 0.01\n"
          ]
        },
        {
          "output_type": "stream",
          "name": "stderr",
          "text": [
            "Training Epoch 9/100: 100%|██████████████████████████████████████████████████████████| 382/382 [21:05<00:00,  3.31s/it]\n"
          ]
        },
        {
          "output_type": "stream",
          "name": "stdout",
          "text": [
            "Epoch [9/100], Train Loss: 3.3621, Train Accuracy: 0.0486\n",
            "Validation Loss: 3.3538, Validation Accuracy: 0.0673\n",
            "Current Learning Rate: 0.01\n"
          ]
        },
        {
          "output_type": "stream",
          "name": "stderr",
          "text": [
            "Training Epoch 10/100: 100%|█████████████████████████████████████████████████████████| 382/382 [21:24<00:00,  3.36s/it]\n"
          ]
        },
        {
          "output_type": "stream",
          "name": "stdout",
          "text": [
            "Epoch [10/100], Train Loss: 3.3391, Train Accuracy: 0.0512\n",
            "Validation Loss: 3.3209, Validation Accuracy: 0.0757\n",
            "Current Learning Rate: 0.01\n"
          ]
        },
        {
          "output_type": "stream",
          "name": "stderr",
          "text": [
            "Training Epoch 11/100: 100%|█████████████████████████████████████████████████████████| 382/382 [20:59<00:00,  3.30s/it]\n"
          ]
        },
        {
          "output_type": "stream",
          "name": "stdout",
          "text": [
            "Epoch [11/100], Train Loss: 3.3241, Train Accuracy: 0.0554\n",
            "Validation Loss: 3.3077, Validation Accuracy: 0.0894\n",
            "Current Learning Rate: 0.01\n"
          ]
        },
        {
          "output_type": "stream",
          "name": "stderr",
          "text": [
            "Training Epoch 12/100: 100%|█████████████████████████████████████████████████████████| 382/382 [21:09<00:00,  3.32s/it]\n"
          ]
        },
        {
          "output_type": "stream",
          "name": "stdout",
          "text": [
            "Epoch [12/100], Train Loss: 3.2939, Train Accuracy: 0.0636\n",
            "Validation Loss: 3.3312, Validation Accuracy: 0.0683\n",
            "Current Learning Rate: 0.01\n"
          ]
        },
        {
          "output_type": "stream",
          "name": "stderr",
          "text": [
            "Training Epoch 13/100: 100%|█████████████████████████████████████████████████████████| 382/382 [21:28<00:00,  3.37s/it]\n"
          ]
        },
        {
          "output_type": "stream",
          "name": "stdout",
          "text": [
            "Epoch [13/100], Train Loss: 3.2653, Train Accuracy: 0.0644\n",
            "Validation Loss: 3.3060, Validation Accuracy: 0.0820\n",
            "Current Learning Rate: 0.01\n"
          ]
        },
        {
          "output_type": "stream",
          "name": "stderr",
          "text": [
            "Training Epoch 14/100: 100%|█████████████████████████████████████████████████████████| 382/382 [21:19<00:00,  3.35s/it]\n"
          ]
        },
        {
          "output_type": "stream",
          "name": "stdout",
          "text": [
            "Epoch [14/100], Train Loss: 3.2268, Train Accuracy: 0.0696\n",
            "Validation Loss: 3.3431, Validation Accuracy: 0.0620\n",
            "Current Learning Rate: 0.01\n"
          ]
        },
        {
          "output_type": "stream",
          "name": "stderr",
          "text": [
            "Training Epoch 15/100: 100%|█████████████████████████████████████████████████████████| 382/382 [21:17<00:00,  3.34s/it]\n"
          ]
        },
        {
          "output_type": "stream",
          "name": "stdout",
          "text": [
            "Epoch [15/100], Train Loss: 3.1650, Train Accuracy: 0.0825\n",
            "Validation Loss: 3.2604, Validation Accuracy: 0.0705\n",
            "Current Learning Rate: 0.01\n"
          ]
        },
        {
          "output_type": "stream",
          "name": "stderr",
          "text": [
            "Training Epoch 16/100: 100%|█████████████████████████████████████████████████████████| 382/382 [21:19<00:00,  3.35s/it]\n"
          ]
        },
        {
          "output_type": "stream",
          "name": "stdout",
          "text": [
            "Epoch [16/100], Train Loss: 3.1081, Train Accuracy: 0.0899\n",
            "Validation Loss: 3.2164, Validation Accuracy: 0.0946\n",
            "Current Learning Rate: 0.01\n"
          ]
        },
        {
          "output_type": "stream",
          "name": "stderr",
          "text": [
            "Training Epoch 17/100: 100%|█████████████████████████████████████████████████████████| 382/382 [21:00<00:00,  3.30s/it]\n"
          ]
        },
        {
          "output_type": "stream",
          "name": "stdout",
          "text": [
            "Epoch [17/100], Train Loss: 3.0118, Train Accuracy: 0.1097\n",
            "Validation Loss: 3.1190, Validation Accuracy: 0.1220\n",
            "Current Learning Rate: 0.01\n"
          ]
        },
        {
          "output_type": "stream",
          "name": "stderr",
          "text": [
            "Training Epoch 18/100: 100%|█████████████████████████████████████████████████████████| 382/382 [21:08<00:00,  3.32s/it]\n"
          ]
        },
        {
          "output_type": "stream",
          "name": "stdout",
          "text": [
            "Epoch [18/100], Train Loss: 2.8451, Train Accuracy: 0.1396\n",
            "Validation Loss: 3.0909, Validation Accuracy: 0.1335\n",
            "Current Learning Rate: 0.01\n"
          ]
        },
        {
          "output_type": "stream",
          "name": "stderr",
          "text": [
            "Training Epoch 19/100: 100%|█████████████████████████████████████████████████████████| 382/382 [20:57<00:00,  3.29s/it]\n"
          ]
        },
        {
          "output_type": "stream",
          "name": "stdout",
          "text": [
            "Epoch [19/100], Train Loss: 2.6386, Train Accuracy: 0.1698\n",
            "Validation Loss: 3.1994, Validation Accuracy: 0.1209\n",
            "Current Learning Rate: 0.01\n"
          ]
        },
        {
          "output_type": "stream",
          "name": "stderr",
          "text": [
            "Training Epoch 20/100: 100%|█████████████████████████████████████████████████████████| 382/382 [21:04<00:00,  3.31s/it]\n"
          ]
        },
        {
          "output_type": "stream",
          "name": "stdout",
          "text": [
            "Epoch [20/100], Train Loss: 2.3669, Train Accuracy: 0.2186\n",
            "Validation Loss: 2.8650, Validation Accuracy: 0.1945\n",
            "Current Learning Rate: 0.01\n"
          ]
        },
        {
          "output_type": "stream",
          "name": "stderr",
          "text": [
            "Training Epoch 21/100: 100%|█████████████████████████████████████████████████████████| 382/382 [20:58<00:00,  3.30s/it]\n"
          ]
        },
        {
          "output_type": "stream",
          "name": "stdout",
          "text": [
            "Epoch [21/100], Train Loss: 2.0710, Train Accuracy: 0.2753\n",
            "Validation Loss: 2.9016, Validation Accuracy: 0.2534\n",
            "Current Learning Rate: 0.01\n"
          ]
        },
        {
          "output_type": "stream",
          "name": "stderr",
          "text": [
            "Training Epoch 22/100: 100%|█████████████████████████████████████████████████████████| 382/382 [20:58<00:00,  3.29s/it]\n"
          ]
        },
        {
          "output_type": "stream",
          "name": "stdout",
          "text": [
            "Epoch [22/100], Train Loss: 1.7621, Train Accuracy: 0.3455\n",
            "Validation Loss: 2.6982, Validation Accuracy: 0.3375\n",
            "Current Learning Rate: 0.01\n"
          ]
        },
        {
          "output_type": "stream",
          "name": "stderr",
          "text": [
            "Training Epoch 23/100: 100%|█████████████████████████████████████████████████████████| 382/382 [21:15<00:00,  3.34s/it]\n"
          ]
        },
        {
          "output_type": "stream",
          "name": "stdout",
          "text": [
            "Epoch [23/100], Train Loss: 1.4584, Train Accuracy: 0.4215\n",
            "Validation Loss: 2.8603, Validation Accuracy: 0.2997\n",
            "Current Learning Rate: 0.01\n"
          ]
        },
        {
          "output_type": "stream",
          "name": "stderr",
          "text": [
            "Training Epoch 24/100: 100%|█████████████████████████████████████████████████████████| 382/382 [21:12<00:00,  3.33s/it]\n"
          ]
        },
        {
          "output_type": "stream",
          "name": "stdout",
          "text": [
            "Epoch [24/100], Train Loss: 1.1121, Train Accuracy: 0.5069\n",
            "Validation Loss: 2.6592, Validation Accuracy: 0.3880\n",
            "Current Learning Rate: 0.01\n"
          ]
        },
        {
          "output_type": "stream",
          "name": "stderr",
          "text": [
            "Training Epoch 25/100: 100%|█████████████████████████████████████████████████████████| 382/382 [21:12<00:00,  3.33s/it]\n"
          ]
        },
        {
          "output_type": "stream",
          "name": "stdout",
          "text": [
            "Epoch [25/100], Train Loss: 0.9053, Train Accuracy: 0.5821\n",
            "Validation Loss: 2.6867, Validation Accuracy: 0.4385\n",
            "Current Learning Rate: 0.01\n"
          ]
        },
        {
          "output_type": "stream",
          "name": "stderr",
          "text": [
            "Training Epoch 26/100: 100%|█████████████████████████████████████████████████████████| 382/382 [21:08<00:00,  3.32s/it]\n"
          ]
        },
        {
          "output_type": "stream",
          "name": "stdout",
          "text": [
            "Epoch [26/100], Train Loss: 0.7255, Train Accuracy: 0.6551\n",
            "Validation Loss: 2.7258, Validation Accuracy: 0.4532\n",
            "Current Learning Rate: 0.01\n"
          ]
        },
        {
          "output_type": "stream",
          "name": "stderr",
          "text": [
            "Training Epoch 27/100: 100%|█████████████████████████████████████████████████████████| 382/382 [21:12<00:00,  3.33s/it]"
          ]
        },
        {
          "output_type": "stream",
          "name": "stdout",
          "text": [
            "Epoch [27/100], Train Loss: 0.6294, Train Accuracy: 0.6914\n"
          ]
        },
        {
          "output_type": "stream",
          "name": "stderr",
          "text": [
            "\n"
          ]
        },
        {
          "output_type": "stream",
          "name": "stdout",
          "text": [
            "Validation Loss: 2.5241, Validation Accuracy: 0.5489\n",
            "Current Learning Rate: 0.01\n"
          ]
        },
        {
          "output_type": "stream",
          "name": "stderr",
          "text": [
            "Training Epoch 28/100: 100%|█████████████████████████████████████████████████████████| 382/382 [21:17<00:00,  3.34s/it]\n"
          ]
        },
        {
          "output_type": "stream",
          "name": "stdout",
          "text": [
            "Epoch [28/100], Train Loss: 0.4961, Train Accuracy: 0.7616\n",
            "Validation Loss: 3.1324, Validation Accuracy: 0.4385\n",
            "Current Learning Rate: 0.01\n"
          ]
        },
        {
          "output_type": "stream",
          "name": "stderr",
          "text": [
            "Training Epoch 29/100: 100%|█████████████████████████████████████████████████████████| 382/382 [21:12<00:00,  3.33s/it]\n"
          ]
        },
        {
          "output_type": "stream",
          "name": "stdout",
          "text": [
            "Epoch [29/100], Train Loss: 0.4549, Train Accuracy: 0.7876\n",
            "Validation Loss: 2.8732, Validation Accuracy: 0.5121\n",
            "Current Learning Rate: 0.01\n"
          ]
        },
        {
          "output_type": "stream",
          "name": "stderr",
          "text": [
            "Training Epoch 30/100: 100%|█████████████████████████████████████████████████████████| 382/382 [21:11<00:00,  3.33s/it]\n"
          ]
        },
        {
          "output_type": "stream",
          "name": "stdout",
          "text": [
            "Epoch [30/100], Train Loss: 0.3002, Train Accuracy: 0.8539\n",
            "Validation Loss: 2.8647, Validation Accuracy: 0.5531\n",
            "Current Learning Rate: 0.01\n"
          ]
        },
        {
          "output_type": "stream",
          "name": "stderr",
          "text": [
            "Training Epoch 31/100: 100%|█████████████████████████████████████████████████████████| 382/382 [21:23<00:00,  3.36s/it]\n"
          ]
        },
        {
          "output_type": "stream",
          "name": "stdout",
          "text": [
            "Epoch [31/100], Train Loss: 0.3784, Train Accuracy: 0.8312\n",
            "Validation Loss: 3.2103, Validation Accuracy: 0.4732\n",
            "Current Learning Rate: 0.005\n"
          ]
        },
        {
          "output_type": "stream",
          "name": "stderr",
          "text": [
            "Training Epoch 32/100: 100%|█████████████████████████████████████████████████████████| 382/382 [21:17<00:00,  3.34s/it]\n"
          ]
        },
        {
          "output_type": "stream",
          "name": "stdout",
          "text": [
            "Epoch [32/100], Train Loss: 0.1757, Train Accuracy: 0.9249\n",
            "Validation Loss: 2.5950, Validation Accuracy: 0.6036\n",
            "Current Learning Rate: 0.005\n"
          ]
        },
        {
          "output_type": "stream",
          "name": "stderr",
          "text": [
            "Training Epoch 33/100: 100%|█████████████████████████████████████████████████████████| 382/382 [21:17<00:00,  3.34s/it]\n"
          ]
        },
        {
          "output_type": "stream",
          "name": "stdout",
          "text": [
            "Epoch [33/100], Train Loss: 0.0747, Train Accuracy: 0.9762\n",
            "Validation Loss: 2.5510, Validation Accuracy: 0.6004\n",
            "Current Learning Rate: 0.005\n"
          ]
        },
        {
          "output_type": "stream",
          "name": "stderr",
          "text": [
            "Training Epoch 34/100: 100%|█████████████████████████████████████████████████████████| 382/382 [21:31<00:00,  3.38s/it]\n"
          ]
        },
        {
          "output_type": "stream",
          "name": "stdout",
          "text": [
            "Epoch [34/100], Train Loss: 0.0553, Train Accuracy: 0.9858\n",
            "Validation Loss: 2.6360, Validation Accuracy: 0.6067\n",
            "Current Learning Rate: 0.005\n"
          ]
        },
        {
          "output_type": "stream",
          "name": "stderr",
          "text": [
            "Training Epoch 35/100: 100%|█████████████████████████████████████████████████████████| 382/382 [21:59<00:00,  3.45s/it]\n"
          ]
        },
        {
          "output_type": "stream",
          "name": "stdout",
          "text": [
            "Epoch [35/100], Train Loss: 0.0445, Train Accuracy: 0.9888\n",
            "Validation Loss: 2.7643, Validation Accuracy: 0.6151\n",
            "Current Learning Rate: 0.0025\n"
          ]
        },
        {
          "output_type": "stream",
          "name": "stderr",
          "text": [
            "Training Epoch 36/100: 100%|█████████████████████████████████████████████████████████| 382/382 [21:32<00:00,  3.38s/it]\n"
          ]
        },
        {
          "output_type": "stream",
          "name": "stdout",
          "text": [
            "Epoch [36/100], Train Loss: 0.0397, Train Accuracy: 0.9933\n",
            "Validation Loss: 2.6870, Validation Accuracy: 0.6130\n",
            "Current Learning Rate: 0.0025\n"
          ]
        },
        {
          "output_type": "stream",
          "name": "stderr",
          "text": [
            "Training Epoch 37/100: 100%|█████████████████████████████████████████████████████████| 382/382 [21:14<00:00,  3.34s/it]\n"
          ]
        },
        {
          "output_type": "stream",
          "name": "stdout",
          "text": [
            "Epoch [37/100], Train Loss: 0.0219, Train Accuracy: 0.9951\n",
            "Validation Loss: 2.7617, Validation Accuracy: 0.6025\n",
            "Current Learning Rate: 0.0025\n"
          ]
        },
        {
          "output_type": "stream",
          "name": "stderr",
          "text": [
            "Training Epoch 38/100: 100%|█████████████████████████████████████████████████████████| 382/382 [21:09<00:00,  3.32s/it]\n"
          ]
        },
        {
          "output_type": "stream",
          "name": "stdout",
          "text": [
            "Epoch [38/100], Train Loss: 0.0181, Train Accuracy: 0.9959\n",
            "Validation Loss: 2.8036, Validation Accuracy: 0.6130\n",
            "Current Learning Rate: 0.0025\n"
          ]
        },
        {
          "output_type": "stream",
          "name": "stderr",
          "text": [
            "Training Epoch 39/100: 100%|█████████████████████████████████████████████████████████| 382/382 [21:19<00:00,  3.35s/it]\n"
          ]
        },
        {
          "output_type": "stream",
          "name": "stdout",
          "text": [
            "Epoch [39/100], Train Loss: 0.0152, Train Accuracy: 0.9966\n",
            "Validation Loss: 2.7853, Validation Accuracy: 0.6078\n",
            "Current Learning Rate: 0.00125\n"
          ]
        },
        {
          "output_type": "stream",
          "name": "stderr",
          "text": [
            "Training Epoch 40/100: 100%|█████████████████████████████████████████████████████████| 382/382 [21:36<00:00,  3.39s/it]\n"
          ]
        },
        {
          "output_type": "stream",
          "name": "stdout",
          "text": [
            "Epoch [40/100], Train Loss: 0.0124, Train Accuracy: 0.9971\n",
            "Validation Loss: 2.7913, Validation Accuracy: 0.6088\n",
            "Current Learning Rate: 0.00125\n"
          ]
        },
        {
          "output_type": "stream",
          "name": "stderr",
          "text": [
            "Training Epoch 41/100: 100%|█████████████████████████████████████████████████████████| 382/382 [21:25<00:00,  3.36s/it]\n"
          ]
        },
        {
          "output_type": "stream",
          "name": "stdout",
          "text": [
            "Epoch [41/100], Train Loss: 0.0115, Train Accuracy: 0.9971\n",
            "Validation Loss: 2.8076, Validation Accuracy: 0.6120\n",
            "Current Learning Rate: 0.00125\n"
          ]
        },
        {
          "output_type": "stream",
          "name": "stderr",
          "text": [
            "Training Epoch 42/100: 100%|█████████████████████████████████████████████████████████| 382/382 [21:21<00:00,  3.35s/it]\n"
          ]
        },
        {
          "output_type": "stream",
          "name": "stdout",
          "text": [
            "Epoch [42/100], Train Loss: 0.0090, Train Accuracy: 0.9979\n",
            "Validation Loss: 2.8333, Validation Accuracy: 0.6088\n",
            "Current Learning Rate: 0.00125\n"
          ]
        },
        {
          "output_type": "stream",
          "name": "stderr",
          "text": [
            "Training Epoch 43/100: 100%|█████████████████████████████████████████████████████████| 382/382 [21:26<00:00,  3.37s/it]\n"
          ]
        },
        {
          "output_type": "stream",
          "name": "stdout",
          "text": [
            "Epoch [43/100], Train Loss: 0.0100, Train Accuracy: 0.9976\n",
            "Validation Loss: 2.8382, Validation Accuracy: 0.6067\n",
            "Current Learning Rate: 0.000625\n"
          ]
        },
        {
          "output_type": "stream",
          "name": "stderr",
          "text": [
            "Training Epoch 44/100: 100%|█████████████████████████████████████████████████████████| 382/382 [21:47<00:00,  3.42s/it]\n"
          ]
        },
        {
          "output_type": "stream",
          "name": "stdout",
          "text": [
            "Epoch [44/100], Train Loss: 0.0079, Train Accuracy: 0.9980\n",
            "Validation Loss: 2.8977, Validation Accuracy: 0.6141\n",
            "Current Learning Rate: 0.000625\n"
          ]
        },
        {
          "output_type": "stream",
          "name": "stderr",
          "text": [
            "Training Epoch 45/100: 100%|█████████████████████████████████████████████████████████| 382/382 [22:55<00:00,  3.60s/it]\n"
          ]
        },
        {
          "output_type": "stream",
          "name": "stdout",
          "text": [
            "Epoch [45/100], Train Loss: 0.0058, Train Accuracy: 0.9984\n",
            "Validation Loss: 2.8363, Validation Accuracy: 0.6193\n",
            "Current Learning Rate: 0.000625\n"
          ]
        },
        {
          "output_type": "stream",
          "name": "stderr",
          "text": [
            "Training Epoch 46/100: 100%|█████████████████████████████████████████████████████████| 382/382 [21:39<00:00,  3.40s/it]\n"
          ]
        },
        {
          "output_type": "stream",
          "name": "stdout",
          "text": [
            "Epoch [46/100], Train Loss: 0.0063, Train Accuracy: 0.9984\n",
            "Validation Loss: 2.8802, Validation Accuracy: 0.6183\n",
            "Current Learning Rate: 0.000625\n"
          ]
        },
        {
          "output_type": "stream",
          "name": "stderr",
          "text": [
            "Training Epoch 47/100: 100%|█████████████████████████████████████████████████████████| 382/382 [21:33<00:00,  3.39s/it]\n"
          ]
        },
        {
          "output_type": "stream",
          "name": "stdout",
          "text": [
            "Epoch [47/100], Train Loss: 0.0052, Train Accuracy: 0.9985\n",
            "Validation Loss: 2.8808, Validation Accuracy: 0.6172\n",
            "Current Learning Rate: 0.0003125\n"
          ]
        },
        {
          "output_type": "stream",
          "name": "stderr",
          "text": [
            "Training Epoch 48/100: 100%|█████████████████████████████████████████████████████████| 382/382 [22:46<00:00,  3.58s/it]\n"
          ]
        },
        {
          "output_type": "stream",
          "name": "stdout",
          "text": [
            "Epoch [48/100], Train Loss: 0.0043, Train Accuracy: 0.9989\n",
            "Validation Loss: 2.9390, Validation Accuracy: 0.6162\n",
            "Current Learning Rate: 0.0003125\n"
          ]
        },
        {
          "output_type": "stream",
          "name": "stderr",
          "text": [
            "Training Epoch 49/100: 100%|█████████████████████████████████████████████████████████| 382/382 [22:41<00:00,  3.56s/it]\n"
          ]
        },
        {
          "output_type": "stream",
          "name": "stdout",
          "text": [
            "Epoch [49/100], Train Loss: 0.0037, Train Accuracy: 0.9993\n",
            "Validation Loss: 2.9086, Validation Accuracy: 0.6141\n",
            "Current Learning Rate: 0.0003125\n"
          ]
        },
        {
          "output_type": "stream",
          "name": "stderr",
          "text": [
            "Training Epoch 50/100: 100%|█████████████████████████████████████████████████████████| 382/382 [22:20<00:00,  3.51s/it]\n"
          ]
        },
        {
          "output_type": "stream",
          "name": "stdout",
          "text": [
            "Epoch [50/100], Train Loss: 0.0033, Train Accuracy: 0.9993\n",
            "Validation Loss: 2.9289, Validation Accuracy: 0.6141\n",
            "Current Learning Rate: 0.0003125\n"
          ]
        },
        {
          "output_type": "stream",
          "name": "stderr",
          "text": [
            "Training Epoch 51/100: 100%|█████████████████████████████████████████████████████████| 382/382 [21:44<00:00,  3.42s/it]\n"
          ]
        },
        {
          "output_type": "stream",
          "name": "stdout",
          "text": [
            "Epoch [51/100], Train Loss: 0.0031, Train Accuracy: 0.9993\n",
            "Validation Loss: 2.9588, Validation Accuracy: 0.6141\n",
            "Current Learning Rate: 0.00015625\n"
          ]
        },
        {
          "output_type": "stream",
          "name": "stderr",
          "text": [
            "Training Epoch 52/100:  16%|█████████                                                 | 60/382 [04:24<23:37,  4.40s/it]\n"
          ]
        },
        {
          "output_type": "error",
          "ename": "KeyboardInterrupt",
          "evalue": "",
          "traceback": [
            "\u001b[1;31m---------------------------------------------------------------------------\u001b[0m",
            "\u001b[1;31mKeyboardInterrupt\u001b[0m                         Traceback (most recent call last)",
            "Cell \u001b[1;32mIn[45], line 10\u001b[0m\n\u001b[0;32m      7\u001b[0m     start_epoch, best_loss \u001b[38;5;241m=\u001b[39m \u001b[38;5;241m0\u001b[39m, \u001b[38;5;241m10.0\u001b[39m\n\u001b[0;32m      9\u001b[0m \u001b[38;5;66;03m# 학습 재개\u001b[39;00m\n\u001b[1;32m---> 10\u001b[0m history \u001b[38;5;241m=\u001b[39m \u001b[43mtrain_and_validate\u001b[49m\u001b[43m(\u001b[49m\u001b[43mmodel\u001b[49m\u001b[43m,\u001b[49m\u001b[43m \u001b[49m\u001b[43mtrain_loader\u001b[49m\u001b[43m,\u001b[49m\u001b[43m \u001b[49m\u001b[43mval_loader\u001b[49m\u001b[43m,\u001b[49m\u001b[43m \u001b[49m\u001b[43mcriterion\u001b[49m\u001b[43m,\u001b[49m\u001b[43m \u001b[49m\u001b[43moptimizer\u001b[49m\u001b[43m,\u001b[49m\u001b[43m \u001b[49m\u001b[43mscheduler\u001b[49m\u001b[43m,\u001b[49m\u001b[43m \u001b[49m\u001b[43mnum_epochs\u001b[49m\u001b[43m,\u001b[49m\u001b[43m \u001b[49m\u001b[43mstart_epoch\u001b[49m\u001b[43m,\u001b[49m\u001b[43m \u001b[49m\u001b[43mbest_loss\u001b[49m\u001b[43m)\u001b[49m\n",
            "Cell \u001b[1;32mIn[42], line 23\u001b[0m, in \u001b[0;36mtrain_and_validate\u001b[1;34m(model, train_loader, val_loader, criterion, optimizer, scheduler, num_epochs, start_epoch, best_loss)\u001b[0m\n\u001b[0;32m     20\u001b[0m loss\u001b[38;5;241m.\u001b[39mbackward()\n\u001b[0;32m     21\u001b[0m optimizer\u001b[38;5;241m.\u001b[39mstep()\n\u001b[1;32m---> 23\u001b[0m running_loss \u001b[38;5;241m+\u001b[39m\u001b[38;5;241m=\u001b[39m \u001b[43mloss\u001b[49m\u001b[38;5;241;43m.\u001b[39;49m\u001b[43mitem\u001b[49m\u001b[43m(\u001b[49m\u001b[43m)\u001b[49m\n\u001b[0;32m     25\u001b[0m \u001b[38;5;66;03m# Accuracy 계산\u001b[39;00m\n\u001b[0;32m     26\u001b[0m _, predicted \u001b[38;5;241m=\u001b[39m torch\u001b[38;5;241m.\u001b[39mmax(outputs, \u001b[38;5;241m1\u001b[39m)\n",
            "\u001b[1;31mKeyboardInterrupt\u001b[0m: "
          ]
        }
      ]
    }
  ]
}